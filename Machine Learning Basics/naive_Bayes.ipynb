{
 "cells": [
  {
   "cell_type": "code",
   "execution_count": 1,
   "id": "b1f89b47-0442-4423-9060-789a977f3686",
   "metadata": {},
   "outputs": [
    {
     "name": "stdout",
     "output_type": "stream",
     "text": [
      "Accuracy: 1.0\n"
     ]
    }
   ],
   "source": [
    "import numpy as np\n",
    "\n",
    "class NaiveBayes:\n",
    "    def fit(self, X, y):\n",
    "        n_samples, n_features = X.shape\n",
    "        self.classes = np.unique(y)\n",
    "        n_classes = len(self.classes)\n",
    "\n",
    "        # priors (P(y))\n",
    "        self.priors = {}\n",
    "        self.mean = {}\n",
    "        self.var = {}\n",
    "\n",
    "        for c in self.classes:\n",
    "            X_c = X[y == c]  # samples belonging to class c\n",
    "            self.priors[c] = X_c.shape[0] / n_samples\n",
    "            self.mean[c] = np.mean(X_c, axis=0)\n",
    "            self.var[c] = np.var(X_c, axis=0)\n",
    "\n",
    "    def _pdf(self, class_idx, x):\n",
    "        \"\"\"Gaussian probability density function\"\"\"\n",
    "        mean = self.mean[class_idx]\n",
    "        var = self.var[class_idx]\n",
    "        numerator = np.exp(- (x - mean) ** 2 / (2 * var))\n",
    "        denominator = np.sqrt(2 * np.pi * var)\n",
    "        return numerator / denominator\n",
    "\n",
    "    def _predict_single(self, x):\n",
    "        posteriors = []\n",
    "\n",
    "        for c in self.classes:\n",
    "            # log(P(y))\n",
    "            prior = np.log(self.priors[c])\n",
    "            # sum log(P(x|y))\n",
    "            class_conditional = np.sum(np.log(self._pdf(c, x)))\n",
    "            posterior = prior + class_conditional\n",
    "            posteriors.append(posterior)\n",
    "\n",
    "        return self.classes[np.argmax(posteriors)]\n",
    "\n",
    "    def predict(self, X):\n",
    "        return np.array([self._predict_single(x) for x in X])\n",
    "\n",
    "\n",
    "# ----------------------------\n",
    "# Example Run\n",
    "# ----------------------------\n",
    "if __name__ == \"__main__\":\n",
    "    from sklearn.datasets import load_iris\n",
    "    from sklearn.model_selection import train_test_split\n",
    "\n",
    "    # Load dataset\n",
    "    data = load_iris()\n",
    "    X, y = data.data, data.target\n",
    "\n",
    "    # Train/test split\n",
    "    X_train, X_test, y_train, y_test = train_test_split(X, y, test_size=0.2, random_state=42)\n",
    "\n",
    "    # Train classifier\n",
    "    nb = NaiveBayes()\n",
    "    nb.fit(X_train, y_train)\n",
    "\n",
    "    # Predictions\n",
    "    predictions = nb.predict(X_test)\n",
    "\n",
    "    # Accuracy\n",
    "    acc = np.sum(predictions == y_test) / len(y_test)\n",
    "    print(\"Accuracy:\", acc)\n"
   ]
  },
  {
   "cell_type": "code",
   "execution_count": null,
   "id": "af80e468-3241-4e82-a547-cb0077650431",
   "metadata": {},
   "outputs": [],
   "source": []
  }
 ],
 "metadata": {
  "kernelspec": {
   "display_name": "Python 3 (ipykernel)",
   "language": "python",
   "name": "python3"
  },
  "language_info": {
   "codemirror_mode": {
    "name": "ipython",
    "version": 3
   },
   "file_extension": ".py",
   "mimetype": "text/x-python",
   "name": "python",
   "nbconvert_exporter": "python",
   "pygments_lexer": "ipython3",
   "version": "3.12.3"
  }
 },
 "nbformat": 4,
 "nbformat_minor": 5
}
