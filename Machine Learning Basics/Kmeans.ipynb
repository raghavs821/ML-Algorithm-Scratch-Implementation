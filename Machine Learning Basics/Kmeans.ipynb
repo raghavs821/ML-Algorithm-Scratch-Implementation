{
 "cells": [
  {
   "cell_type": "code",
   "execution_count": 7,
   "id": "f3d9a027-db58-4ba1-b564-1e10313ca075",
   "metadata": {},
   "outputs": [],
   "source": [
    "import random\n",
    "import numpy as np"
   ]
  },
  {
   "cell_type": "code",
   "execution_count": 10,
   "id": "3db2e567-6c36-4a9e-a01b-2995e7cc5d8e",
   "metadata": {},
   "outputs": [],
   "source": [
    "class Kmeans_algo():\n",
    "    def __init__(self, k = 3 , n_iter = 100):\n",
    "        self.k = k\n",
    "        self.n_iter = n_iter\n",
    "        self.centroid = None\n",
    "\n",
    "    def fit_predict(self, X ,y):\n",
    "        # intialize the centroid\n",
    "        random_index = random.sample(range(0,X.shape[0]), self.k)\n",
    "        self.centroid = X[random_index]\n",
    "\n",
    "        for i in range(self.n_iter):\n",
    "            # Assign the cluster to each of the datapoint\n",
    "            cluster_group = self.assign_cluster(X) \n",
    "            old_centroid = self.centroid\n",
    "    \n",
    "            # Move the centroid\n",
    "            self.centroid = self.Move_centroid(X,cluster_group)\n",
    "    \n",
    "            # Decide when to stop\n",
    "            if (old_centroid == self.centroid).all():\n",
    "                break\n",
    "        return cluster_group\n",
    "\n",
    "    def assign_cluster(self, X ):\n",
    "        cluster_group = []\n",
    "        distances = []\n",
    "\n",
    "        for row in X :\n",
    "            for centroid in self.centroid:\n",
    "                distances.append(np.sqrt(np.sum((row-centroid)**2)))\n",
    "\n",
    "            min_distance = min(distances)\n",
    "            cluster_group.append(distances.index(min_distance))\n",
    "            distances.clear()\n",
    "\n",
    "        return np.array(cluster_group)\n",
    "\n",
    "    def Move_centroid(self , X ,cluster_group):\n",
    "        new_centroids = []\n",
    "        cluster_type = np.unique(cluster_group)\n",
    "        for types in cluster_type:\n",
    "            new_centroids.append( X[cluster_group == types].mean(axis=0))\n",
    "        return np.array(new_centroids)\n",
    "                "
   ]
  },
  {
   "cell_type": "code",
   "execution_count": 11,
   "id": "66ecbf90-4cb7-42ac-9ec5-8afafeddd4ff",
   "metadata": {},
   "outputs": [
    {
     "data": {
      "image/png": "[encoded data removed]",
      "text/plain": [
       "<Figure size 640x480 with 1 Axes>"
      ]
     },
     "metadata": {},
     "output_type": "display_data"
    }
   ],
   "source": [
    "from sklearn.datasets import make_blobs\n",
    "import matplotlib.pyplot as plt\n",
    "\n",
    "centroids = [(-5,-5),(5,5)]\n",
    "cluster_std = [1,1]\n",
    "\n",
    "X,y = make_blobs(n_samples = 100 , cluster_std = cluster_std , centers=centroids, n_features=2, random_state = 2)\n",
    "\n",
    "km = Kmeans_algo( k = 2 , n_iter=100)\n",
    "y_means = km.fit_predict(X,y)\n",
    "\n",
    "plt.scatter(X[y_means == 0,0],X[y_means==0,1], color='red')\n",
    "plt.scatter(X[y_means == 1,0],X[y_means==1,1], color='blue')\n",
    "\n",
    "plt.show()"
   ]
  },
  {
   "cell_type": "code",
   "execution_count": null,
   "id": "5d4945ec-566a-42ac-85b6-779b9b44a3b3",
   "metadata": {},
   "outputs": [],
   "source": []
  }
 ],
 "metadata": {
  "kernelspec": {
   "display_name": "Python 3 (ipykernel)",
   "language": "python",
   "name": "python3"
  },
  "language_info": {
   "codemirror_mode": {
    "name": "ipython",
    "version": 3
   },
   "file_extension": ".py",
   "mimetype": "text/x-python",
   "name": "python",
   "nbconvert_exporter": "python",
   "pygments_lexer": "ipython3",
   "version": "3.12.3"
  }
 },
 "nbformat": 4,
 "nbformat_minor": 5
}
