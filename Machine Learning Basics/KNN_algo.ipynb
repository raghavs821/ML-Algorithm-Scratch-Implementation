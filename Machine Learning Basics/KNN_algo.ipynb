{
 "cells": [
  {
   "cell_type": "code",
   "execution_count": 5,
   "id": "de6aa73b-8ace-4190-9e69-3d3fc757e105",
   "metadata": {},
   "outputs": [],
   "source": [
    "import numpy as np\n",
    "from collections import Counter"
   ]
  },
  {
   "cell_type": "code",
   "execution_count": 12,
   "id": "1582940d-72e7-44b3-b40d-927ee4cf46dc",
   "metadata": {},
   "outputs": [],
   "source": [
    "class KNN_algo():\n",
    "    def __init__( self , k = 3):\n",
    "        self.k = k\n",
    "\n",
    "    def fit(self, X , Y):\n",
    "        self.X_train = X\n",
    "        self.y_train = Y\n",
    "\n",
    "    def euclidean_distance(self, x1 , x2 ):\n",
    "        return np.sqrt(np.sum((x1-x2)**2))\n",
    "\n",
    "    def predict(self, X) :\n",
    "        predictions = [ self._predict_one(x) for x in X ]\n",
    "        print(\" Final Predictions\" , predictions )\n",
    "        return np.array(predictions)\n",
    "\n",
    "    def _predict_one(self,x):\n",
    "        distances = [ self.euclidean_distance(x,x_train) for x_train in self.X_train ]\n",
    "\n",
    "        k_indices = np.argsort(distances)[ : self.k]\n",
    "\n",
    "        k_neighbor_labels = [ self.y_train[i] for i in k_indices]\n",
    "\n",
    "        most_common = Counter(k_neighbor_labels).most_common(1)\n",
    "\n",
    "        print(\"most common class\" , most_common)\n",
    "\n",
    "        return most_common[0][0]"
   ]
  },
  {
   "cell_type": "code",
   "execution_count": 13,
   "id": "f83baf92-60b1-4040-b7f6-ce830774b637",
   "metadata": {},
   "outputs": [
    {
     "name": "stdout",
     "output_type": "stream",
     "text": [
      "most common class [(np.int64(1), 5)]\n",
      "most common class [(np.int64(1), 3)]\n",
      "most common class [(np.int64(1), 5)]\n",
      "most common class [(np.int64(1), 5)]\n",
      "most common class [(np.int64(1), 3)]\n",
      "most common class [(np.int64(1), 4)]\n",
      "most common class [(np.int64(1), 4)]\n",
      "most common class [(np.int64(0), 4)]\n",
      "most common class [(np.int64(1), 4)]\n",
      "most common class [(np.int64(0), 5)]\n",
      "most common class [(np.int64(0), 5)]\n",
      "most common class [(np.int64(0), 5)]\n",
      "most common class [(np.int64(1), 3)]\n",
      "most common class [(np.int64(0), 5)]\n",
      "most common class [(np.int64(1), 3)]\n",
      "most common class [(np.int64(1), 4)]\n",
      "most common class [(np.int64(1), 3)]\n",
      "most common class [(np.int64(1), 5)]\n",
      "most common class [(np.int64(0), 5)]\n",
      "most common class [(np.int64(1), 5)]\n",
      "most common class [(np.int64(0), 4)]\n",
      "most common class [(np.int64(0), 4)]\n",
      "most common class [(np.int64(0), 3)]\n",
      "most common class [(np.int64(0), 5)]\n",
      "most common class [(np.int64(1), 4)]\n",
      "most common class [(np.int64(1), 3)]\n",
      "most common class [(np.int64(0), 5)]\n",
      "most common class [(np.int64(0), 5)]\n",
      "most common class [(np.int64(0), 4)]\n",
      "most common class [(np.int64(1), 5)]\n",
      "most common class [(np.int64(1), 5)]\n",
      "most common class [(np.int64(0), 5)]\n",
      "most common class [(np.int64(1), 5)]\n",
      "most common class [(np.int64(0), 5)]\n",
      "most common class [(np.int64(0), 3)]\n",
      "most common class [(np.int64(0), 4)]\n",
      "most common class [(np.int64(0), 4)]\n",
      "most common class [(np.int64(1), 5)]\n",
      "most common class [(np.int64(1), 4)]\n",
      "most common class [(np.int64(0), 5)]\n",
      " Final Predictions [np.int64(1), np.int64(1), np.int64(1), np.int64(1), np.int64(1), np.int64(1), np.int64(1), np.int64(0), np.int64(1), np.int64(0), np.int64(0), np.int64(0), np.int64(1), np.int64(0), np.int64(1), np.int64(1), np.int64(1), np.int64(1), np.int64(0), np.int64(1), np.int64(0), np.int64(0), np.int64(0), np.int64(0), np.int64(1), np.int64(1), np.int64(0), np.int64(0), np.int64(0), np.int64(1), np.int64(1), np.int64(0), np.int64(1), np.int64(0), np.int64(0), np.int64(0), np.int64(0), np.int64(1), np.int64(1), np.int64(0)]\n",
      "Accuracy :  0.8\n"
     ]
    }
   ],
   "source": [
    "from sklearn.datasets import make_classification\n",
    "from sklearn.model_selection import train_test_split\n",
    "from sklearn.metrics import accuracy_score\n",
    "\n",
    "X, y = make_classification(\n",
    "    n_samples=200,\n",
    "    n_features=2,\n",
    "    n_informative=2,   # total ≤ n_features\n",
    "    n_redundant=0,\n",
    "    n_repeated=0,\n",
    "    n_classes=2,\n",
    "    random_state=42\n",
    ")\n",
    "\n",
    "X_train, X_test , y_train , y_test = train_test_split(X, y , test_size = 0.2 , random_state=42)\n",
    "\n",
    "knn = KNN_algo(k=5)\n",
    "knn.fit(X_train , y_train)\n",
    "\n",
    "y_pred = knn.predict(X_test)\n",
    "\n",
    "print(\"Accuracy : \" , accuracy_score(y_test , y_pred))"
   ]
  },
  {
   "cell_type": "code",
   "execution_count": null,
   "id": "41e9235f-3423-4463-9d7d-8d6bf81f679d",
   "metadata": {},
   "outputs": [],
   "source": []
  },
  {
   "cell_type": "code",
   "execution_count": null,
   "id": "6f562ddd-8bce-4a64-ace3-fcf9f771f078",
   "metadata": {},
   "outputs": [],
   "source": []
  }
 ],
 "metadata": {
  "kernelspec": {
   "display_name": "Python 3 (ipykernel)",
   "language": "python",
   "name": "python3"
  },
  "language_info": {
   "codemirror_mode": {
    "name": "ipython",
    "version": 3
   },
   "file_extension": ".py",
   "mimetype": "text/x-python",
   "name": "python",
   "nbconvert_exporter": "python",
   "pygments_lexer": "ipython3",
   "version": "3.12.3"
  }
 },
 "nbformat": 4,
 "nbformat_minor": 5
}
