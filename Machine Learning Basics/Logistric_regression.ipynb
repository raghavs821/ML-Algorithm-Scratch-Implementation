{
 "cells": [
  {
   "cell_type": "code",
   "execution_count": 6,
   "id": "dba28504-ed04-4512-bee8-9f174cabb273",
   "metadata": {},
   "outputs": [],
   "source": [
    "import numpy as np"
   ]
  },
  {
   "cell_type": "code",
   "execution_count": 10,
   "id": "766d05d0-8ee6-46b1-b081-53b835507bf7",
   "metadata": {},
   "outputs": [],
   "source": [
    "class logistic_regression():\n",
    "    def __init__(self,lr,iteration):\n",
    "        self.lr = lr\n",
    "        self.iteration = iteration\n",
    "        self.weights = None\n",
    "        self.bias = None\n",
    "\n",
    "    def sigmoid(self,z):\n",
    "        return 1 / (1 + np.exp(-z))\n",
    "\n",
    "    def fit(self, X , y) :\n",
    "        n_samples , n_features = X.shape\n",
    "\n",
    "        self.weights = np.ones(n_features)\n",
    "        self.bias = 0\n",
    "\n",
    "        for _ in range(self.iteration):\n",
    "            linear_output = np.dot(X,self.weights) + self.bias\n",
    "            y_pred = self.sigmoid(linear_output)\n",
    "            \n",
    "\n",
    "            coeff_der = (1/n_features) * np.dot(X.T , y_pred - y)\n",
    "            bias_der = (1/n_features) * np.sum(y_pred - y)\n",
    "\n",
    "            self.weights -= self.lr*coeff_der\n",
    "            self.bias -= self.lr*bias_der\n",
    "\n",
    "    def predict_prob(self,X):\n",
    "        linear_output = np.dot(X,self.weights) + self.bias\n",
    "        y_pred = self.sigmoid(linear_output)\n",
    "        return y_pred\n",
    "        \n",
    "    def predict(self,X,threshold = 0.5):\n",
    "        prob = self.predict_prob(X)\n",
    "        return np.where(prob >= threshold , 1 , 0)"
   ]
  },
  {
   "cell_type": "code",
   "execution_count": 11,
   "id": "80bacf7b-83a2-41e8-81d6-5d72e4160ab4",
   "metadata": {},
   "outputs": [],
   "source": [
    "from sklearn.model_selection import train_test_split\n",
    "from sklearn.metrics import accuracy_score"
   ]
  },
  {
   "cell_type": "code",
   "execution_count": 14,
   "id": "8669c7b9-6384-4825-91a7-8fb0e4f1e2a9",
   "metadata": {},
   "outputs": [
    {
     "name": "stdout",
     "output_type": "stream",
     "text": [
      "weights [ 5.52812977 -6.96770272]\n",
      "bias -0.15295301018510368\n",
      "Accuracy 1.0\n"
     ]
    }
   ],
   "source": [
    "np.random.seed(42)\n",
    "X = np.random.randn(100 , 2)\n",
    "true_w = np.array([2,-3])\n",
    "y_prob = 1 / ( 1 + np.exp(-1* np.dot(X,true_w)))\n",
    "y = (y_prob > 0.5 ).astype(int)\n",
    "\n",
    "X_train, X_test , y_train , y_test = train_test_split(X,y, test_size = 0.2)\n",
    "\n",
    "model = logistic_regression(lr = 0.1 , iteration = 100)\n",
    "model.fit(X_train,y_train)\n",
    "\n",
    "y_pred = model.predict(X_test)\n",
    "\n",
    "print(\"weights\", model.weights)\n",
    "print(\"bias\" , model.bias)\n",
    "print(\"Accuracy\" , accuracy_score(y_test,y_pred))"
   ]
  },
  {
   "cell_type": "code",
   "execution_count": null,
   "id": "db4ac9b9-a6d7-43a0-b922-2d0f1bf52ce1",
   "metadata": {},
   "outputs": [],
   "source": []
  }
 ],
 "metadata": {
  "kernelspec": {
   "display_name": "Python 3 (ipykernel)",
   "language": "python",
   "name": "python3"
  },
  "language_info": {
   "codemirror_mode": {
    "name": "ipython",
    "version": 3
   },
   "file_extension": ".py",
   "mimetype": "text/x-python",
   "name": "python",
   "nbconvert_exporter": "python",
   "pygments_lexer": "ipython3",
   "version": "3.12.3"
  }
 },
 "nbformat": 4,
 "nbformat_minor": 5
}
