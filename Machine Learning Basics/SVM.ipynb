{
 "cells": [
  {
   "cell_type": "code",
   "execution_count": null,
   "id": "cbb89278-2642-423e-bf4e-ae25c3e5e8d4",
   "metadata": {},
   "outputs": [],
   "source": []
  }
 ],
 "metadata": {
  "kernelspec": {
   "display_name": "",
   "name": ""
  },
  "language_info": {
   "name": ""
  }
 },
 "nbformat": 4,
 "nbformat_minor": 5
}
