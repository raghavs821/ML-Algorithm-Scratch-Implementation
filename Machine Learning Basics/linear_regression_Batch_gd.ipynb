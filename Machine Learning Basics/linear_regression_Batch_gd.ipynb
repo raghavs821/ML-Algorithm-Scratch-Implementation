{
 "cells": [
  {
   "cell_type": "code",
   "execution_count": 11,
   "id": "67a55e3a-bea0-48a3-8cb8-79a927c5dadc",
   "metadata": {},
   "outputs": [],
   "source": [
    "from sklearn.datasets import load_diabetes\n",
    "import numpy as np\n",
    "from sklearn.model_selection import train_test_split\n",
    "from sklearn.linear_model import LinearRegression"
   ]
  },
  {
   "cell_type": "code",
   "execution_count": 7,
   "id": "b6270a01-7600-46d4-9cc4-bf62f25d3ad8",
   "metadata": {},
   "outputs": [],
   "source": [
    "X,y = load_diabetes(return_X_y = True)"
   ]
  },
  {
   "cell_type": "code",
   "execution_count": 8,
   "id": "feaadd75-6f2b-447e-a6cd-9b8a27e5dd70",
   "metadata": {},
   "outputs": [
    {
     "name": "stdout",
     "output_type": "stream",
     "text": [
      "(442, 10)\n"
     ]
    }
   ],
   "source": [
    "print(X.shape)"
   ]
  },
  {
   "cell_type": "code",
   "execution_count": 9,
   "id": "5eaa20e6-f50e-4646-bff2-fcaeebb6b18e",
   "metadata": {},
   "outputs": [
    {
     "name": "stdout",
     "output_type": "stream",
     "text": [
      "(442,)\n"
     ]
    }
   ],
   "source": [
    "print(y.shape)"
   ]
  },
  {
   "cell_type": "code",
   "execution_count": 10,
   "id": "a164e932-cf01-4a10-a46c-e5134135094b",
   "metadata": {},
   "outputs": [],
   "source": [
    "x_train,x_test,y_train,y_test = train_test_split(X,y,test_size = 0.2,random_state = 2)"
   ]
  },
  {
   "cell_type": "code",
   "execution_count": 16,
   "id": "f23ff7e7-9352-4784-86c7-fa1c455e4bae",
   "metadata": {
    "scrolled": true
   },
   "outputs": [
    {
     "name": "stdout",
     "output_type": "stream",
     "text": [
      "[  -9.15865318 -205.45432163  516.69374454  340.61999905 -895.5520019\n",
      "  561.22067904  153.89310954  126.73139688  861.12700152   52.42112238]\n"
     ]
    }
   ],
   "source": [
    "reg = LinearRegression()\n",
    "reg.fit(x_train,y_train)\n",
    "print(reg.coef_)"
   ]
  },
  {
   "cell_type": "code",
   "execution_count": 17,
   "id": "3e0b13e4-2d8d-4beb-9a48-3fc3ec01ba9b",
   "metadata": {},
   "outputs": [
    {
     "name": "stdout",
     "output_type": "stream",
     "text": [
      "151.88331005254167\n"
     ]
    }
   ],
   "source": [
    "print(reg.intercept_)"
   ]
  },
  {
   "cell_type": "code",
   "execution_count": 31,
   "id": "71f3f417-eb24-45f9-a48c-807ce23c0eb0",
   "metadata": {},
   "outputs": [],
   "source": [
    "class GDR_batch():\n",
    "    def __init__(self, lr , epoch):\n",
    "        self.intercept_ = None\n",
    "        self.coef_ = None\n",
    "        self.lr = lr\n",
    "        self.epoch = epoch\n",
    "\n",
    "    def fit(self,X,y):\n",
    "        self.intercept_ = 0\n",
    "        self.coef_ = np.ones(X.shape[1])\n",
    "\n",
    "        for i in range(self.epoch) :\n",
    "            y_hat = np.dot(X,self.coef_) + self.intercept_\n",
    "            intercept_der = (-2)*np.mean((y - y_hat))\n",
    "            self.intercept_ = self.intercept_ - (self.lr * intercept_der)\n",
    "\n",
    "            coef_der = (-2) * (np.dot((y-y_hat),X)/X.shape[0])\n",
    "            self.coef_ = self.coef_ - (self.lr * coef_der)\n",
    "\n",
    "        print(f\"coef : {self.coef_} , intercept : {self.intercept_}\")\n",
    "\n",
    "    def predict(self,X):\n",
    "        return np.dot(X,self.coef_) + self.intercept_\n",
    "        "
   ]
  },
  {
   "cell_type": "code",
   "execution_count": 32,
   "id": "53bec666-2389-46c0-a712-10de2e3e28e8",
   "metadata": {},
   "outputs": [],
   "source": [
    "gd = GDR_batch(lr=0.5,epoch=1000)"
   ]
  },
  {
   "cell_type": "code",
   "execution_count": 33,
   "id": "cacc4606-fe3d-44dd-b85e-7590ccf0aa90",
   "metadata": {},
   "outputs": [
    {
     "name": "stdout",
     "output_type": "stream",
     "text": [
      "coef : [  14.38990585 -173.7235727   491.54898524  323.91524824  -39.32648042\n",
      " -116.01061213 -194.04077415  103.38135565  451.63448787   97.57218278] , intercept : 152.01351687661833\n"
     ]
    }
   ],
   "source": [
    "gd.fit(x_train,y_train)"
   ]
  },
  {
   "cell_type": "code",
   "execution_count": 38,
   "id": "37317767-0fe4-4c07-a170-1037ac3a12a4",
   "metadata": {},
   "outputs": [],
   "source": [
    "class SGDR_batch():\n",
    "    def __init__(self, lr , epoch):\n",
    "        self.intercept_ = None\n",
    "        self.coef_ = None\n",
    "        self.lr = lr\n",
    "        self.epoch = epoch\n",
    "\n",
    "    def fit(self,X,y):\n",
    "        self.intercept_ = 0\n",
    "        self.coef_ = np.ones(X.shape[1])\n",
    "\n",
    "        \n",
    "\n",
    "        for i in range(self.epoch) :\n",
    "            for j in range(X.shape[0]):\n",
    "                idx = np.random.randint(1,X.shape[0])\n",
    "                y_hat = np.dot(X[idx],self.coef_) + self.intercept_\n",
    "                intercept_der = (-2)*(y[idx] - y_hat)\n",
    "                self.intercept_ = self.intercept_ - (self.lr * intercept_der)\n",
    "    \n",
    "                coef_der = (-2) * (np.dot((y[idx]-y_hat),X[idx]))\n",
    "                self.coef_ = self.coef_ - (self.lr * coef_der)\n",
    "\n",
    "        print(f\"coef : {self.coef_} , intercept : {self.intercept_}\")\n",
    "\n",
    "    def predict(self,X):\n",
    "        return np.dot(X,self.coef_) + self.intercept_"
   ]
  },
  {
   "cell_type": "code",
   "execution_count": 39,
   "id": "030fb96e-d18c-4042-904d-d8d72e00f38d",
   "metadata": {},
   "outputs": [
    {
     "data": {
      "text/plain": [
       "3"
      ]
     },
     "execution_count": 39,
     "metadata": {},
     "output_type": "execute_result"
    }
   ],
   "source": [
    "np.random.randint(1,5)"
   ]
  },
  {
   "cell_type": "code",
   "execution_count": 48,
   "id": "6f1a8ba5-0328-463e-8d77-924525f1ca16",
   "metadata": {},
   "outputs": [],
   "source": [
    "sgd = SGDR_batch(lr=0.1,epoch=210)"
   ]
  },
  {
   "cell_type": "code",
   "execution_count": 49,
   "id": "5e3f8946-27f3-4e68-9a58-ed6157b68cbd",
   "metadata": {},
   "outputs": [
    {
     "name": "stdout",
     "output_type": "stream",
     "text": [
      "coef : [ -14.45333297 -177.92996116  547.45412243  351.93789717 -252.02995531\n",
      "   36.90861412 -134.64553033   77.99179261  592.78446862   48.70904381] , intercept : 135.8416503330953\n"
     ]
    }
   ],
   "source": [
    "sgd.fit(x_train,y_train)"
   ]
  },
  {
   "cell_type": "code",
   "execution_count": null,
   "id": "407f7290-c6d3-4b84-804f-970d742c8ee3",
   "metadata": {},
   "outputs": [],
   "source": []
  }
 ],
 "metadata": {
  "kernelspec": {
   "display_name": "Python 3 (ipykernel)",
   "language": "python",
   "name": "python3"
  },
  "language_info": {
   "codemirror_mode": {
    "name": "ipython",
    "version": 3
   },
   "file_extension": ".py",
   "mimetype": "text/x-python",
   "name": "python",
   "nbconvert_exporter": "python",
   "pygments_lexer": "ipython3",
   "version": "3.12.3"
  }
 },
 "nbformat": 4,
 "nbformat_minor": 5
}
