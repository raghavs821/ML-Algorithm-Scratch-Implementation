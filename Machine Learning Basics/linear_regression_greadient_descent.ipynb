{
 "cells": [
  {
   "cell_type": "code",
   "execution_count": 2,
   "id": "3ff26b0c-ac7e-420b-ac15-99386ad6da5d",
   "metadata": {},
   "outputs": [
    {
     "name": "stdout",
     "output_type": "stream",
     "text": [
      "Collecting scikit-learn\n",
      "  Downloading scikit_learn-1.7.1-cp312-cp312-manylinux2014_x86_64.manylinux_2_17_x86_64.whl.metadata (11 kB)\n",
      "Requirement already satisfied: numpy>=1.22.0 in /home/ravi-ranjan-singh/Desktop/jupyter/jupyter/lib/python3.12/site-packages (from scikit-learn) (2.3.2)\n",
      "Collecting scipy>=1.8.0 (from scikit-learn)\n",
      "  Using cached scipy-1.16.1-cp312-cp312-manylinux2014_x86_64.manylinux_2_17_x86_64.whl.metadata (61 kB)\n",
      "Collecting joblib>=1.2.0 (from scikit-learn)\n",
      "  Downloading joblib-1.5.2-py3-none-any.whl.metadata (5.6 kB)\n",
      "Collecting threadpoolctl>=3.1.0 (from scikit-learn)\n",
      "  Using cached threadpoolctl-3.6.0-py3-none-any.whl.metadata (13 kB)\n",
      "Downloading scikit_learn-1.7.1-cp312-cp312-manylinux2014_x86_64.manylinux_2_17_x86_64.whl (9.5 MB)\n",
      "\u001b[2K   \u001b[38;2;114;156;31m━━━━━━━━━━━━━━━━━━━━━━━━━━━━━━━━━━━━━━━━\u001b[0m \u001b[32m9.5/9.5 MB\u001b[0m \u001b[31m569.4 kB/s\u001b[0m eta \u001b[36m0:00:00\u001b[0mm eta \u001b[36m0:00:01\u001b[0m[36m0:00:01\u001b[0m\n",
      "\u001b[?25hDownloading joblib-1.5.2-py3-none-any.whl (308 kB)\n",
      "\u001b[2K   \u001b[38;2;114;156;31m━━━━━━━━━━━━━━━━━━━━━━━━━━━━━━━━━━━━━━━\u001b[0m \u001b[32m308.4/308.4 kB\u001b[0m \u001b[31m590.4 kB/s\u001b[0m eta \u001b[36m0:00:00\u001b[0mm eta \u001b[36m0:00:01\u001b[0m0:01\u001b[0m:01\u001b[0m\n",
      "\u001b[?25hUsing cached scipy-1.16.1-cp312-cp312-manylinux2014_x86_64.manylinux_2_17_x86_64.whl (35.2 MB)\n",
      "Using cached threadpoolctl-3.6.0-py3-none-any.whl (18 kB)\n",
      "Installing collected packages: threadpoolctl, scipy, joblib, scikit-learn\n",
      "Successfully installed joblib-1.5.2 scikit-learn-1.7.1 scipy-1.16.1 threadpoolctl-3.6.0\n"
     ]
    }
   ],
   "source": [
    "!pip install scikit-learn"
   ]
  },
  {
   "cell_type": "code",
   "execution_count": 4,
   "id": "320cf604-d91f-4df5-9d92-7acc16cbd14e",
   "metadata": {},
   "outputs": [
    {
     "name": "stdout",
     "output_type": "stream",
     "text": [
      "Collecting matplotlib\n",
      "  Downloading matplotlib-3.10.6-cp312-cp312-manylinux2014_x86_64.manylinux_2_17_x86_64.whl.metadata (11 kB)\n",
      "Collecting contourpy>=1.0.1 (from matplotlib)\n",
      "  Downloading contourpy-1.3.3-cp312-cp312-manylinux_2_27_x86_64.manylinux_2_28_x86_64.whl.metadata (5.5 kB)\n",
      "Collecting cycler>=0.10 (from matplotlib)\n",
      "  Downloading cycler-0.12.1-py3-none-any.whl.metadata (3.8 kB)\n",
      "Collecting fonttools>=4.22.0 (from matplotlib)\n",
      "  Downloading fonttools-4.59.2-cp312-cp312-manylinux1_x86_64.manylinux2014_x86_64.manylinux_2_17_x86_64.manylinux_2_5_x86_64.whl.metadata (109 kB)\n",
      "\u001b[2K     \u001b[38;2;114;156;31m━━━━━━━━━━━━━━━━━━━━━━━━━━━━━━━━━━━━━\u001b[0m \u001b[32m109.7/109.7 kB\u001b[0m \u001b[31m601.4 kB/s\u001b[0m eta \u001b[36m0:00:00\u001b[0m1m607.7 kB/s\u001b[0m eta \u001b[36m0:00:01\u001b[0m\n",
      "\u001b[?25hCollecting kiwisolver>=1.3.1 (from matplotlib)\n",
      "  Downloading kiwisolver-1.4.9-cp312-cp312-manylinux2014_x86_64.manylinux_2_17_x86_64.whl.metadata (6.3 kB)\n",
      "Requirement already satisfied: numpy>=1.23 in /home/ravi-ranjan-singh/Desktop/jupyter/jupyter/lib/python3.12/site-packages (from matplotlib) (2.3.2)\n",
      "Requirement already satisfied: packaging>=20.0 in /home/ravi-ranjan-singh/Desktop/jupyter/jupyter/lib/python3.12/site-packages (from matplotlib) (25.0)\n",
      "Collecting pillow>=8 (from matplotlib)\n",
      "  Using cached pillow-11.3.0-cp312-cp312-manylinux_2_27_x86_64.manylinux_2_28_x86_64.whl.metadata (9.0 kB)\n",
      "Collecting pyparsing>=2.3.1 (from matplotlib)\n",
      "  Downloading pyparsing-3.2.3-py3-none-any.whl.metadata (5.0 kB)\n",
      "Requirement already satisfied: python-dateutil>=2.7 in /home/ravi-ranjan-singh/Desktop/jupyter/jupyter/lib/python3.12/site-packages (from matplotlib) (2.9.0.post0)\n",
      "Requirement already satisfied: six>=1.5 in /home/ravi-ranjan-singh/Desktop/jupyter/jupyter/lib/python3.12/site-packages (from python-dateutil>=2.7->matplotlib) (1.17.0)\n",
      "Downloading matplotlib-3.10.6-cp312-cp312-manylinux2014_x86_64.manylinux_2_17_x86_64.whl (8.7 MB)\n",
      "\u001b[2K   \u001b[38;2;114;156;31m━━━━━━━━━━━━━━━━━━━━━━━━━━━━━━━━━━━━━━━━\u001b[0m \u001b[32m8.7/8.7 MB\u001b[0m \u001b[31m379.1 kB/s\u001b[0m eta \u001b[36m0:00:00\u001b[0mm eta \u001b[36m0:00:01\u001b[0m[36m0:00:01\u001b[0m\n",
      "\u001b[?25hDownloading contourpy-1.3.3-cp312-cp312-manylinux_2_27_x86_64.manylinux_2_28_x86_64.whl (362 kB)\n",
      "\u001b[2K   \u001b[38;2;114;156;31m━━━━━━━━━━━━━━━━━━━━━━━━━━━━━━━━━━━━━━━\u001b[0m \u001b[32m362.6/362.6 kB\u001b[0m \u001b[31m323.6 kB/s\u001b[0m eta \u001b[36m0:00:00\u001b[0mm eta \u001b[36m0:00:01\u001b[0m0:01\u001b[0m:01\u001b[0m\n",
      "\u001b[?25hDownloading cycler-0.12.1-py3-none-any.whl (8.3 kB)\n",
      "Downloading fonttools-4.59.2-cp312-cp312-manylinux1_x86_64.manylinux2014_x86_64.manylinux_2_17_x86_64.manylinux_2_5_x86_64.whl (4.9 MB)\n",
      "\u001b[2K   \u001b[38;2;114;156;31m━━━━━━━━━━━━━━━━━━━━━━━━━━━━━━━━━━━━━━━━\u001b[0m \u001b[32m4.9/4.9 MB\u001b[0m \u001b[31m301.6 kB/s\u001b[0m eta \u001b[36m0:00:00\u001b[0mm eta \u001b[36m0:00:01\u001b[0m[36m0:00:01\u001b[0m\n",
      "\u001b[?25hDownloading kiwisolver-1.4.9-cp312-cp312-manylinux2014_x86_64.manylinux_2_17_x86_64.whl (1.5 MB)\n",
      "\u001b[2K   \u001b[38;2;114;156;31m━━━━━━━━━━━━━━━━━━━━━━━━━━━━━━━━━━━━━━━━\u001b[0m \u001b[32m1.5/1.5 MB\u001b[0m \u001b[31m208.4 kB/s\u001b[0m eta \u001b[36m0:00:00\u001b[0mm eta \u001b[36m0:00:01\u001b[0m0:01\u001b[0m:01\u001b[0m\n",
      "\u001b[?25hUsing cached pillow-11.3.0-cp312-cp312-manylinux_2_27_x86_64.manylinux_2_28_x86_64.whl (6.6 MB)\n",
      "Downloading pyparsing-3.2.3-py3-none-any.whl (111 kB)\n",
      "\u001b[2K   \u001b[38;2;114;156;31m━━━━━━━━━━━━━━━━━━━━━━━━━━━━━━━━━━━━━━━\u001b[0m \u001b[32m111.1/111.1 kB\u001b[0m \u001b[31m398.3 kB/s\u001b[0m eta \u001b[36m0:00:00\u001b[0m kB/s\u001b[0m eta \u001b[36m0:00:01\u001b[0m:01\u001b[0m\n",
      "\u001b[?25hInstalling collected packages: pyparsing, pillow, kiwisolver, fonttools, cycler, contourpy, matplotlib\n",
      "Successfully installed contourpy-1.3.3 cycler-0.12.1 fonttools-4.59.2 kiwisolver-1.4.9 matplotlib-3.10.6 pillow-11.3.0 pyparsing-3.2.3\n"
     ]
    }
   ],
   "source": [
    "!pip install matplotlib"
   ]
  },
  {
   "cell_type": "code",
   "execution_count": 5,
   "id": "d6739906-72b5-4690-9141-4794d59c1863",
   "metadata": {},
   "outputs": [],
   "source": [
    "from sklearn.datasets import make_regression\n",
    "import matplotlib.pyplot as plt\n",
    "import numpy as np\n",
    "from sklearn.model_selection import cross_val_score"
   ]
  },
  {
   "cell_type": "code",
   "execution_count": 6,
   "id": "f69d53eb-17b7-4cc5-9a5a-b3ac14f80ff5",
   "metadata": {},
   "outputs": [],
   "source": [
    "X,y = make_regression(n_samples=100 , n_features = 1 , n_informative = 1 , n_targets=1 , noise=20 , random_state = 12)"
   ]
  },
  {
   "cell_type": "code",
   "execution_count": 7,
   "id": "b68858da-92b9-4e77-91ef-6451bcde6db2",
   "metadata": {},
   "outputs": [],
   "source": [
    "from sklearn.model_selection import train_test_split\n",
    "X_train , X_test , y_train , y_test = train_test_split(X,y,test_size = 0.2 , random_state = 2 )"
   ]
  },
  {
   "cell_type": "code",
   "execution_count": 9,
   "id": "62fcd7c5-13b8-493b-b50e-88e3d27531ad",
   "metadata": {},
   "outputs": [],
   "source": [
    "from sklearn.linear_model import LinearRegression"
   ]
  },
  {
   "cell_type": "code",
   "execution_count": 10,
   "id": "385fc60b-af95-476e-bcfb-7adfd14295f5",
   "metadata": {},
   "outputs": [
    {
     "name": "stdout",
     "output_type": "stream",
     "text": [
      "[38.71620445]\n",
      "-0.9675990326530854\n"
     ]
    }
   ],
   "source": [
    "lr = LinearRegression()\n",
    "lr.fit(X_train,y_train)\n",
    "print(lr.coef_)\n",
    "print(lr.intercept_)"
   ]
  },
  {
   "cell_type": "code",
   "execution_count": 23,
   "id": "f495944a-202d-4727-b310-650f9aa7a0c4",
   "metadata": {},
   "outputs": [],
   "source": [
    "class gdRegression():\n",
    "    def __init__(self, learning_rate , epochs):\n",
    "        self.m = 26.5\n",
    "        self.b = 25\n",
    "        self.lr = learning_rate\n",
    "        self.epochs = epochs\n",
    "\n",
    "    def fit(self, X_train,y_train):\n",
    "        for i in range(self.epochs):\n",
    "            slope_m = -2 * np.sum((y_train - self.m*X_train.ravel() - self.b) * X_train.ravel())\n",
    "            slope_b = -2 * np.sum(y_train - self.m*X_train.ravel() - self.b)\n",
    "            \n",
    "            self.m = self.m - self.lr*slope_m\n",
    "            self.b = self.b - self.lr*slope_b\n",
    "\n",
    "            print(f\"m : {self.m} , b : {self.b}\")\n",
    "\n",
    "    def predict(self, X):\n",
    "        return self.m*X.ravel() + self.b\n",
    "        "
   ]
  },
  {
   "cell_type": "code",
   "execution_count": 24,
   "id": "ed2514ce-8463-4fa7-a682-5499c5def2b1",
   "metadata": {},
   "outputs": [],
   "source": [
    "gd = gdRegression(learning_rate = 0.01 , epochs = 50)"
   ]
  },
  {
   "cell_type": "code",
   "execution_count": 25,
   "id": "a5defcc2-a714-458e-a2a0-ed485063d79d",
   "metadata": {},
   "outputs": [
    {
     "name": "stdout",
     "output_type": "stream",
     "text": [
      "m : 53.34670129424319 , b : -19.61550581182138\n",
      "m : 24.32074967131672 , b : 13.89469323287527\n",
      "m : 52.005090965982085 , b : -13.499506252857238\n",
      "m : 26.74710088653638 , b : 9.88823069254019\n",
      "m : 49.3882609693095 , b : -10.486400058489256\n",
      "m : 29.24096941056458 , b : 7.4233112912659855\n",
      "m : 47.11366987263163 , b : -8.381266933801617\n",
      "m : 31.27964413899605 , b : 5.589107953242344\n",
      "m : 45.29964726440305 , b : -6.7688573337119475\n",
      "m : 32.88883044956084 , b : 4.166182139710871\n",
      "m : 43.87402887982075 , b : -5.511053812527297\n",
      "m : 34.151117861210714 , b : 3.0535437727048897\n",
      "m : 42.756626129264276 , b : -4.526525052422529\n",
      "m : 35.14016490062208 , b : 2.182259636013918\n",
      "m : 41.881228812088814 , b : -3.755416321281638\n",
      "m : 35.91495732536675 , b : 1.499792276323487\n",
      "m : 41.19548475974343 , b : -3.151394506999691\n",
      "m : 36.521885428495175 , b : 0.9651968035781495\n",
      "m : 40.658314686254606 , b : -2.678244610594486\n",
      "m : 36.997314899491016 , b : 0.5464296857652489\n",
      "m : 40.237529664137426 , b : -2.307609509685908\n",
      "m : 37.36973610033875 , b : 0.21839438281587187\n",
      "m : 39.907913502122014 , b : -2.017277680524744\n",
      "m : 37.6614671074048 , b : -0.03856751290663962\n",
      "m : 39.64971323913427 , b : -1.7898502682066826\n",
      "m : 37.88999055515364 , b : -0.2398550539454487\n",
      "m : 39.4474556369128 , b : -1.6116981543051878\n",
      "m : 38.069001234497364 , b : -0.39753086215823896\n",
      "m : 39.28901994422458 , b : -1.4721451624221427\n",
      "m : 38.209226771914324 , b : -0.5210440235461593\n",
      "m : 39.16491153778437 , b : -1.3628282582749875\n",
      "m : 38.319070505320475 , b : -0.6177963485486027\n",
      "m : 39.067692935801176 , b : -1.2771963748391046\n",
      "m : 38.40511507316649 , b : -0.6935859428620484\n",
      "m : 38.99153808986877 , b : -1.210117824470524\n",
      "m : 38.47251689415493 , b : -0.7529546723072269\n",
      "m : 38.93188324562435 , b : -1.1575727707004388\n",
      "m : 38.525315177489674 , b : -0.7994603445947086\n",
      "m : 38.885153449269936 , b : -1.1164123302834534\n",
      "m : 38.56667398178034 , b : -0.8358899191388083\n",
      "m : 38.848548310240865 , b : -1.0841698691236739\n",
      "m : 38.59907182853434 , b : -0.8644265220129764\n",
      "m : 38.819874181357974 , b : -1.0589131835511139\n",
      "m : 38.624450233260916 , b : -0.8867802748028213\n",
      "m : 38.797412699473156 , b : -1.0391287085710572\n",
      "m : 38.644330055255146 , b : -0.9042907775768504\n",
      "m : 38.77981780860403 , b : -1.0236308139992614\n",
      "m : 38.659902638590474 , b : -0.9180073875027922\n",
      "m : 38.76603509443209 , b : -1.0114907528452202\n",
      "m : 38.67210120615341 , b : -0.9287521039902898\n",
      "38.67210120615341\n",
      "-0.9287521039902898\n"
     ]
    }
   ],
   "source": [
    "gd.fit(X_train,y_train)\n",
    "print(gd.m)\n",
    "print(gd.b)"
   ]
  },
  {
   "cell_type": "code",
   "execution_count": 26,
   "id": "ab2a0fbd-a7f3-479c-9072-13be0b6c4b64",
   "metadata": {},
   "outputs": [
    {
     "data": {
      "text/plain": [
       "array([-24.04782055, -47.92188296, -27.56913862,  50.98298935,\n",
       "        37.77980764, -28.62817   , -23.0445944 ,  45.85661864,\n",
       "       -49.62557134, -23.04210657, -45.3325504 , -86.52300842,\n",
       "       -66.19551542,  35.56129089,  11.39470417,  85.76705253,\n",
       "       -38.40884375,  50.73065262,  38.22734889,  12.90210158])"
      ]
     },
     "execution_count": 26,
     "metadata": {},
     "output_type": "execute_result"
    }
   ],
   "source": [
    "gd.predict(X_test)"
   ]
  },
  {
   "cell_type": "code",
   "execution_count": null,
   "id": "d8aa7eca-b3e4-4278-8292-7980c187346a",
   "metadata": {},
   "outputs": [],
   "source": []
  }
 ],
 "metadata": {
  "kernelspec": {
   "display_name": "Python 3 (ipykernel)",
   "language": "python",
   "name": "python3"
  },
  "language_info": {
   "codemirror_mode": {
    "name": "ipython",
    "version": 3
   },
   "file_extension": ".py",
   "mimetype": "text/x-python",
   "name": "python",
   "nbconvert_exporter": "python",
   "pygments_lexer": "ipython3",
   "version": "3.12.3"
  }
 },
 "nbformat": 4,
 "nbformat_minor": 5
}
